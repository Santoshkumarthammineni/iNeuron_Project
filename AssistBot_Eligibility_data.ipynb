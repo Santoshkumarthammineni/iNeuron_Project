{
  "nbformat": 4,
  "nbformat_minor": 0,
  "metadata": {
    "colab": {
      "name": "AssistBot_Eligibility_data.ipynb",
      "provenance": [],
      "collapsed_sections": []
    },
    "kernelspec": {
      "name": "python3",
      "display_name": "Python 3"
    }
  },
  "cells": [
    {
      "cell_type": "code",
      "metadata": {
        "id": "o4EQ8nb0w7Xl"
      },
      "source": [
        "import pandas as pd\r\n",
        "import random\r\n",
        "from collections import Counter\r\n",
        "import numpy as np\r\n",
        "from sklearn.preprocessing import LabelEncoder\r\n",
        "from sklearn.ensemble import RandomForestClassifier\r\n",
        "from sklearn.model_selection import train_test_split\r\n",
        "from sklearn.metrics import confusion_matrix,accuracy_score,classification_report\r\n",
        "from sklearn.ensemble import RandomForestClassifier"
      ],
      "execution_count": 1,
      "outputs": []
    },
    {
      "cell_type": "code",
      "metadata": {
        "id": "i8GqEAx6kStO"
      },
      "source": [
        "age_1 = np.random.choice(range(20, 25), 1500)\r\n",
        "age_2 = np.random.choice(range(25, 46), 5000)\r\n",
        "age_3 = np.random.choice(range(46, 66), 3500)\r\n",
        "\r\n",
        "age1_df = pd.DataFrame(age_1, columns=['Age'])\r\n",
        "age2_df = pd.DataFrame(age_2, columns=['Age'])\r\n",
        "age3_df = pd.DataFrame(age_3, columns=['Age'])"
      ],
      "execution_count": 2,
      "outputs": []
    },
    {
      "cell_type": "code",
      "metadata": {
        "id": "utEbS1LLs9bG"
      },
      "source": [
        "df = pd.concat([age1_df, age2_df, age3_df],  axis=0, ignore_index=True)\r\n",
        "\r\n",
        "# Shuffle data\r\n",
        "df = df.sample(frac=1).reset_index(drop=True)"
      ],
      "execution_count": 3,
      "outputs": []
    },
    {
      "cell_type": "code",
      "metadata": {
        "colab": {
          "base_uri": "https://localhost:8080/"
        },
        "id": "fWEdfCLnrkb-",
        "outputId": "39c57f70-86b5-4162-a6e1-a6be37368bb4"
      },
      "source": [
        "df.shape"
      ],
      "execution_count": 4,
      "outputs": [
        {
          "output_type": "execute_result",
          "data": {
            "text/plain": [
              "(10000, 1)"
            ]
          },
          "metadata": {
            "tags": []
          },
          "execution_count": 4
        }
      ]
    },
    {
      "cell_type": "code",
      "metadata": {
        "colab": {
          "base_uri": "https://localhost:8080/"
        },
        "id": "ySUS2m67xzRN",
        "outputId": "8b7eb78a-3920-4a7e-bab0-3e900a0e42e4"
      },
      "source": [
        "df.value_counts()"
      ],
      "execution_count": 5,
      "outputs": [
        {
          "output_type": "execute_result",
          "data": {
            "text/plain": [
              "Age\n",
              "24     314\n",
              "21     305\n",
              "23     298\n",
              "22     295\n",
              "20     288\n",
              "37     260\n",
              "39     255\n",
              "30     253\n",
              "27     250\n",
              "35     250\n",
              "31     247\n",
              "41     247\n",
              "34     241\n",
              "40     241\n",
              "38     239\n",
              "32     238\n",
              "43     237\n",
              "28     236\n",
              "33     233\n",
              "36     230\n",
              "25     230\n",
              "44     227\n",
              "26     225\n",
              "45     224\n",
              "42     221\n",
              "48     221\n",
              "29     216\n",
              "63     199\n",
              "59     196\n",
              "60     192\n",
              "65     191\n",
              "49     191\n",
              "64     178\n",
              "55     176\n",
              "54     173\n",
              "57     172\n",
              "51     167\n",
              "62     167\n",
              "47     167\n",
              "50     166\n",
              "61     163\n",
              "52     161\n",
              "56     160\n",
              "58     160\n",
              "46     156\n",
              "53     144\n",
              "dtype: int64"
            ]
          },
          "metadata": {
            "tags": []
          },
          "execution_count": 5
        }
      ]
    },
    {
      "cell_type": "code",
      "metadata": {
        "colab": {
          "base_uri": "https://localhost:8080/",
          "height": 195
        },
        "id": "OqjX5vV4vk7p",
        "outputId": "94c29b3a-7d80-4af8-a680-c14d8f05bc50"
      },
      "source": [
        "df.head()"
      ],
      "execution_count": 6,
      "outputs": [
        {
          "output_type": "execute_result",
          "data": {
            "text/html": [
              "<div>\n",
              "<style scoped>\n",
              "    .dataframe tbody tr th:only-of-type {\n",
              "        vertical-align: middle;\n",
              "    }\n",
              "\n",
              "    .dataframe tbody tr th {\n",
              "        vertical-align: top;\n",
              "    }\n",
              "\n",
              "    .dataframe thead th {\n",
              "        text-align: right;\n",
              "    }\n",
              "</style>\n",
              "<table border=\"1\" class=\"dataframe\">\n",
              "  <thead>\n",
              "    <tr style=\"text-align: right;\">\n",
              "      <th></th>\n",
              "      <th>Age</th>\n",
              "    </tr>\n",
              "  </thead>\n",
              "  <tbody>\n",
              "    <tr>\n",
              "      <th>0</th>\n",
              "      <td>27</td>\n",
              "    </tr>\n",
              "    <tr>\n",
              "      <th>1</th>\n",
              "      <td>51</td>\n",
              "    </tr>\n",
              "    <tr>\n",
              "      <th>2</th>\n",
              "      <td>43</td>\n",
              "    </tr>\n",
              "    <tr>\n",
              "      <th>3</th>\n",
              "      <td>63</td>\n",
              "    </tr>\n",
              "    <tr>\n",
              "      <th>4</th>\n",
              "      <td>22</td>\n",
              "    </tr>\n",
              "  </tbody>\n",
              "</table>\n",
              "</div>"
            ],
            "text/plain": [
              "   Age\n",
              "0   27\n",
              "1   51\n",
              "2   43\n",
              "3   63\n",
              "4   22"
            ]
          },
          "metadata": {
            "tags": []
          },
          "execution_count": 6
        }
      ]
    },
    {
      "cell_type": "code",
      "metadata": {
        "id": "LyGJIXdeG3az"
      },
      "source": [
        "# income\r\n",
        "income = []\r\n",
        "\r\n",
        "for x in df['Age']:\r\n",
        "  if 19 < x <= 24:\r\n",
        "    x = random.randint(15000, 50000)\r\n",
        "    income.append(x)\r\n",
        "  elif 24 < x <= 44:\r\n",
        "    x = random.randint(25000, 100000)\r\n",
        "    income.append(x)\r\n",
        "  elif 44 < x <= 65:\r\n",
        "    x = random.randint(35000, 150000)\r\n",
        "    income.append(x)\r\n",
        "\r\n",
        "\r\n",
        "df['Income'] = income"
      ],
      "execution_count": 7,
      "outputs": []
    },
    {
      "cell_type": "code",
      "metadata": {
        "id": "SC3FgNxxIPZp"
      },
      "source": [
        "# expenses\r\n",
        "\r\n",
        "df['Expenses'] = [x*random.randint(50, 100)/100 for x in df['Income']] "
      ],
      "execution_count": 8,
      "outputs": []
    },
    {
      "cell_type": "code",
      "metadata": {
        "id": "qFdYEoama9in"
      },
      "source": [
        "# experience - just keeping it simple \r\n",
        "  \r\n",
        "\r\n",
        "df['Experience'] = df['Age'] -20"
      ],
      "execution_count": 9,
      "outputs": []
    },
    {
      "cell_type": "code",
      "metadata": {
        "id": "H76OzdqaC1OC"
      },
      "source": [
        "# Gender\r\n",
        "# 50% male 50% female\r\n",
        "\r\n",
        "male = [\"m\"]*5000\r\n",
        "female = [\"f\"]*5000\r\n",
        "\r\n",
        "gender = male + female\r\n",
        "random.shuffle(gender) \r\n",
        "\r\n",
        "\r\n",
        "df['Gender'] =  gender"
      ],
      "execution_count": 10,
      "outputs": []
    },
    {
      "cell_type": "code",
      "metadata": {
        "id": "lrsXJhmyFUpu"
      },
      "source": [
        "# Company Rank\r\n",
        "\r\n",
        "rank1 = [\"Rank 1\"]*2500\r\n",
        "rank2 = [\"Rank 2\"]*3500\r\n",
        "rank3 = [\"Rank 3\"]*4000\r\n",
        "\r\n",
        "rank = rank1 + rank2 + rank3\r\n",
        "random.shuffle(rank)\r\n",
        "\r\n",
        "df['Company'] = rank"
      ],
      "execution_count": 11,
      "outputs": []
    },
    {
      "cell_type": "code",
      "metadata": {
        "id": "1AF88iuRZ0IB"
      },
      "source": [
        "eligibility = []\r\n",
        "\r\n",
        "for index, row in df.iterrows():\r\n",
        "  if (19 < row['Age'] <= 25) & ((row['Income'] - row['Expenses']) >= 10000 ) & (row['Experience'] >= 2) & (row['Company'] == ('Rank 1' or 'Rank 2')):\r\n",
        "    eligibility.append('yes')\r\n",
        "  elif (25 < row['Age'] <= 45) & ((row['Income'] - row['Expenses']) >= 5000 ) & (row['Experience'] >= 5):\r\n",
        "    eligibility.append('yes')\r\n",
        "  elif (45 < row['Age'] <= 55) & ((row['Income'] - row['Expenses']) >= 5000 ) & (row['Experience'] >= 25) & (row['Company'] == ('Rank 1' or 'Rank 2')):\r\n",
        "    eligibility.append('yes')\r\n",
        "  elif (55 < row['Age'] <= 65) & ((row['Income'] - row['Expenses']) >= 5000 ) & (row['Experience'] >= 35) & (row['Company'] == ('Rank 1' or 'Rank 2')):\r\n",
        "    eligibility.append('yes')\r\n",
        "  else:\r\n",
        "    eligibility.append('no')\r\n",
        "\r\n",
        "df['Eligibility'] = eligibility\r\n",
        "\r\n"
      ],
      "execution_count": 12,
      "outputs": []
    },
    {
      "cell_type": "code",
      "metadata": {
        "colab": {
          "base_uri": "https://localhost:8080/",
          "height": 195
        },
        "id": "6osZ9Br60xHo",
        "outputId": "174f4d10-1249-488c-c221-e8936b917729"
      },
      "source": [
        "df.head()"
      ],
      "execution_count": 13,
      "outputs": [
        {
          "output_type": "execute_result",
          "data": {
            "text/html": [
              "<div>\n",
              "<style scoped>\n",
              "    .dataframe tbody tr th:only-of-type {\n",
              "        vertical-align: middle;\n",
              "    }\n",
              "\n",
              "    .dataframe tbody tr th {\n",
              "        vertical-align: top;\n",
              "    }\n",
              "\n",
              "    .dataframe thead th {\n",
              "        text-align: right;\n",
              "    }\n",
              "</style>\n",
              "<table border=\"1\" class=\"dataframe\">\n",
              "  <thead>\n",
              "    <tr style=\"text-align: right;\">\n",
              "      <th></th>\n",
              "      <th>Age</th>\n",
              "      <th>Income</th>\n",
              "      <th>Expenses</th>\n",
              "      <th>Experience</th>\n",
              "      <th>Gender</th>\n",
              "      <th>Company</th>\n",
              "      <th>Eligibility</th>\n",
              "    </tr>\n",
              "  </thead>\n",
              "  <tbody>\n",
              "    <tr>\n",
              "      <th>0</th>\n",
              "      <td>27</td>\n",
              "      <td>92753</td>\n",
              "      <td>56579.33</td>\n",
              "      <td>7</td>\n",
              "      <td>m</td>\n",
              "      <td>Rank 1</td>\n",
              "      <td>yes</td>\n",
              "    </tr>\n",
              "    <tr>\n",
              "      <th>1</th>\n",
              "      <td>51</td>\n",
              "      <td>132052</td>\n",
              "      <td>100359.52</td>\n",
              "      <td>31</td>\n",
              "      <td>m</td>\n",
              "      <td>Rank 2</td>\n",
              "      <td>no</td>\n",
              "    </tr>\n",
              "    <tr>\n",
              "      <th>2</th>\n",
              "      <td>43</td>\n",
              "      <td>57742</td>\n",
              "      <td>56587.16</td>\n",
              "      <td>23</td>\n",
              "      <td>f</td>\n",
              "      <td>Rank 1</td>\n",
              "      <td>no</td>\n",
              "    </tr>\n",
              "    <tr>\n",
              "      <th>3</th>\n",
              "      <td>63</td>\n",
              "      <td>86610</td>\n",
              "      <td>82279.50</td>\n",
              "      <td>43</td>\n",
              "      <td>f</td>\n",
              "      <td>Rank 2</td>\n",
              "      <td>no</td>\n",
              "    </tr>\n",
              "    <tr>\n",
              "      <th>4</th>\n",
              "      <td>22</td>\n",
              "      <td>25878</td>\n",
              "      <td>14232.90</td>\n",
              "      <td>2</td>\n",
              "      <td>m</td>\n",
              "      <td>Rank 2</td>\n",
              "      <td>no</td>\n",
              "    </tr>\n",
              "  </tbody>\n",
              "</table>\n",
              "</div>"
            ],
            "text/plain": [
              "   Age  Income   Expenses  Experience Gender Company Eligibility\n",
              "0   27   92753   56579.33           7      m  Rank 1         yes\n",
              "1   51  132052  100359.52          31      m  Rank 2          no\n",
              "2   43   57742   56587.16          23      f  Rank 1          no\n",
              "3   63   86610   82279.50          43      f  Rank 2          no\n",
              "4   22   25878   14232.90           2      m  Rank 2          no"
            ]
          },
          "metadata": {
            "tags": []
          },
          "execution_count": 13
        }
      ]
    },
    {
      "cell_type": "code",
      "metadata": {
        "colab": {
          "base_uri": "https://localhost:8080/"
        },
        "id": "iFXBnXow3zPR",
        "outputId": "ad0f07dc-0d49-40d6-a8f4-21c195769bf4"
      },
      "source": [
        "df['Eligibility'].value_counts()"
      ],
      "execution_count": 14,
      "outputs": [
        {
          "output_type": "execute_result",
          "data": {
            "text/plain": [
              "no     5176\n",
              "yes    4824\n",
              "Name: Eligibility, dtype: int64"
            ]
          },
          "metadata": {
            "tags": []
          },
          "execution_count": 14
        }
      ]
    },
    {
      "cell_type": "code",
      "metadata": {
        "id": "15qG5MApHNLu"
      },
      "source": [
        "df = df.reindex(columns =['Age', 'Gender', 'Income', 'Expenses', 'Company', 'Experience', 'Eligibility'])"
      ],
      "execution_count": 15,
      "outputs": []
    },
    {
      "cell_type": "code",
      "metadata": {
        "colab": {
          "base_uri": "https://localhost:8080/",
          "height": 195
        },
        "id": "ca8yGt-qMIJM",
        "outputId": "5a3a5b05-5dd2-432e-fe85-2b9948a8370e"
      },
      "source": [
        "df.head()"
      ],
      "execution_count": 16,
      "outputs": [
        {
          "output_type": "execute_result",
          "data": {
            "text/html": [
              "<div>\n",
              "<style scoped>\n",
              "    .dataframe tbody tr th:only-of-type {\n",
              "        vertical-align: middle;\n",
              "    }\n",
              "\n",
              "    .dataframe tbody tr th {\n",
              "        vertical-align: top;\n",
              "    }\n",
              "\n",
              "    .dataframe thead th {\n",
              "        text-align: right;\n",
              "    }\n",
              "</style>\n",
              "<table border=\"1\" class=\"dataframe\">\n",
              "  <thead>\n",
              "    <tr style=\"text-align: right;\">\n",
              "      <th></th>\n",
              "      <th>Age</th>\n",
              "      <th>Gender</th>\n",
              "      <th>Income</th>\n",
              "      <th>Expenses</th>\n",
              "      <th>Company</th>\n",
              "      <th>Experience</th>\n",
              "      <th>Eligibility</th>\n",
              "    </tr>\n",
              "  </thead>\n",
              "  <tbody>\n",
              "    <tr>\n",
              "      <th>0</th>\n",
              "      <td>27</td>\n",
              "      <td>m</td>\n",
              "      <td>92753</td>\n",
              "      <td>56579.33</td>\n",
              "      <td>Rank 1</td>\n",
              "      <td>7</td>\n",
              "      <td>yes</td>\n",
              "    </tr>\n",
              "    <tr>\n",
              "      <th>1</th>\n",
              "      <td>51</td>\n",
              "      <td>m</td>\n",
              "      <td>132052</td>\n",
              "      <td>100359.52</td>\n",
              "      <td>Rank 2</td>\n",
              "      <td>31</td>\n",
              "      <td>no</td>\n",
              "    </tr>\n",
              "    <tr>\n",
              "      <th>2</th>\n",
              "      <td>43</td>\n",
              "      <td>f</td>\n",
              "      <td>57742</td>\n",
              "      <td>56587.16</td>\n",
              "      <td>Rank 1</td>\n",
              "      <td>23</td>\n",
              "      <td>no</td>\n",
              "    </tr>\n",
              "    <tr>\n",
              "      <th>3</th>\n",
              "      <td>63</td>\n",
              "      <td>f</td>\n",
              "      <td>86610</td>\n",
              "      <td>82279.50</td>\n",
              "      <td>Rank 2</td>\n",
              "      <td>43</td>\n",
              "      <td>no</td>\n",
              "    </tr>\n",
              "    <tr>\n",
              "      <th>4</th>\n",
              "      <td>22</td>\n",
              "      <td>m</td>\n",
              "      <td>25878</td>\n",
              "      <td>14232.90</td>\n",
              "      <td>Rank 2</td>\n",
              "      <td>2</td>\n",
              "      <td>no</td>\n",
              "    </tr>\n",
              "  </tbody>\n",
              "</table>\n",
              "</div>"
            ],
            "text/plain": [
              "   Age Gender  Income   Expenses Company  Experience Eligibility\n",
              "0   27      m   92753   56579.33  Rank 1           7         yes\n",
              "1   51      m  132052  100359.52  Rank 2          31          no\n",
              "2   43      f   57742   56587.16  Rank 1          23          no\n",
              "3   63      f   86610   82279.50  Rank 2          43          no\n",
              "4   22      m   25878   14232.90  Rank 2           2          no"
            ]
          },
          "metadata": {
            "tags": []
          },
          "execution_count": 16
        }
      ]
    },
    {
      "cell_type": "code",
      "metadata": {
        "id": "PRuEyL24VGbl"
      },
      "source": [
        "# Data prepared\r\n",
        "\r\n",
        "df.to_csv('Eligibility_data.csv')"
      ],
      "execution_count": 17,
      "outputs": []
    },
    {
      "cell_type": "code",
      "metadata": {
        "colab": {
          "base_uri": "https://localhost:8080/"
        },
        "id": "EUUcDsAfQFSG",
        "outputId": "e3613987-15f5-4e2e-d344-c9f23b640a98"
      },
      "source": [
        "# Creating model function\r\n",
        "\r\n",
        "# one-hot-encoding\r\n",
        "one_hot_features = ['Gender', 'Eligibility']\r\n",
        "\r\n",
        "# Convert categorical variables into dummy/indicator variables (i.e. one-hot encoding).\r\n",
        "one_hot_encoded = pd.get_dummies(df[one_hot_features], drop_first=True)\r\n",
        "# Convert Categorical to Numerical for default column\r\n",
        "one_hot_encoded.info(verbose=True, memory_usage=True, null_counts=True)\r\n",
        "\r\n",
        "# Replacing categorical columns with dummies\r\n",
        "fdf = df.drop(one_hot_features, axis=1)\r\n",
        "fdf = pd.concat([fdf, one_hot_encoded], axis=1)\r\n",
        "\r\n",
        "# Label encoding the Company Rank\r\n",
        "fdf['Company'] = fdf['Company'].map({'Rank 1':0,'Rank 2':1, 'Rank 3': 2})\r\n",
        "\r\n",
        "# splitting X  &  y\r\n",
        "X = fdf.drop('Eligibility_yes', 1)\r\n",
        "y = fdf['Eligibility_yes']\r\n",
        "\r\n",
        "# splitting in train & test\r\n",
        "X_train, X_test, y_train, y_test  = train_test_split(X, y, test_size = 0.3, random_state=10)\r\n",
        "\r\n",
        "# Creating model\r\n",
        "rf_model = RandomForestClassifier()\r\n",
        "rf_model.fit(X_train, y_train)\r\n",
        "\r\n",
        "y_pred=rf_model.predict(X_test)\r\n",
        "print(confusion_matrix(y_test,y_pred))\r\n",
        "print(accuracy_score(y_test,y_pred))\r\n",
        "print(classification_report(y_test,y_pred))\r\n"
      ],
      "execution_count": 18,
      "outputs": [
        {
          "output_type": "stream",
          "text": [
            "<class 'pandas.core.frame.DataFrame'>\n",
            "RangeIndex: 10000 entries, 0 to 9999\n",
            "Data columns (total 2 columns):\n",
            " #   Column           Non-Null Count  Dtype\n",
            "---  ------           --------------  -----\n",
            " 0   Gender_m         10000 non-null  uint8\n",
            " 1   Eligibility_yes  10000 non-null  uint8\n",
            "dtypes: uint8(2)\n",
            "memory usage: 19.7 KB\n",
            "[[1468   85]\n",
            " [  26 1421]]\n",
            "0.963\n",
            "              precision    recall  f1-score   support\n",
            "\n",
            "           0       0.98      0.95      0.96      1553\n",
            "           1       0.94      0.98      0.96      1447\n",
            "\n",
            "    accuracy                           0.96      3000\n",
            "   macro avg       0.96      0.96      0.96      3000\n",
            "weighted avg       0.96      0.96      0.96      3000\n",
            "\n"
          ],
          "name": "stdout"
        }
      ]
    },
    {
      "cell_type": "code",
      "metadata": {
        "colab": {
          "base_uri": "https://localhost:8080/",
          "height": 106
        },
        "id": "nB30Py9scX2K",
        "outputId": "803f5796-b63d-4626-f24b-61d03f3ff9b8"
      },
      "source": [
        "X_train.head(2)"
      ],
      "execution_count": 19,
      "outputs": [
        {
          "output_type": "execute_result",
          "data": {
            "text/html": [
              "<div>\n",
              "<style scoped>\n",
              "    .dataframe tbody tr th:only-of-type {\n",
              "        vertical-align: middle;\n",
              "    }\n",
              "\n",
              "    .dataframe tbody tr th {\n",
              "        vertical-align: top;\n",
              "    }\n",
              "\n",
              "    .dataframe thead th {\n",
              "        text-align: right;\n",
              "    }\n",
              "</style>\n",
              "<table border=\"1\" class=\"dataframe\">\n",
              "  <thead>\n",
              "    <tr style=\"text-align: right;\">\n",
              "      <th></th>\n",
              "      <th>Age</th>\n",
              "      <th>Income</th>\n",
              "      <th>Expenses</th>\n",
              "      <th>Company</th>\n",
              "      <th>Experience</th>\n",
              "      <th>Gender_m</th>\n",
              "    </tr>\n",
              "  </thead>\n",
              "  <tbody>\n",
              "    <tr>\n",
              "      <th>5663</th>\n",
              "      <td>27</td>\n",
              "      <td>96787</td>\n",
              "      <td>71622.38</td>\n",
              "      <td>1</td>\n",
              "      <td>7</td>\n",
              "      <td>0</td>\n",
              "    </tr>\n",
              "    <tr>\n",
              "      <th>2840</th>\n",
              "      <td>58</td>\n",
              "      <td>39320</td>\n",
              "      <td>36567.60</td>\n",
              "      <td>2</td>\n",
              "      <td>38</td>\n",
              "      <td>1</td>\n",
              "    </tr>\n",
              "  </tbody>\n",
              "</table>\n",
              "</div>"
            ],
            "text/plain": [
              "      Age  Income  Expenses  Company  Experience  Gender_m\n",
              "5663   27   96787  71622.38        1           7         0\n",
              "2840   58   39320  36567.60        2          38         1"
            ]
          },
          "metadata": {
            "tags": []
          },
          "execution_count": 19
        }
      ]
    },
    {
      "cell_type": "code",
      "metadata": {
        "colab": {
          "base_uri": "https://localhost:8080/",
          "height": 77
        },
        "id": "Sk3UJGo3T0Hi",
        "outputId": "2fe85adb-9d1d-45b9-e501-bbb933cec39b"
      },
      "source": [
        "input = {'Age': 31, 'Income': 55000, 'Expenses': 35000, 'Company': 4, 'Experience': 15, 'Gender_m': 1}\r\n",
        "\r\n",
        "input_df = pd.DataFrame(input, index=[0])\r\n",
        "\r\n",
        "\r\n",
        "def  find_eligibility(input):\r\n",
        "  pred = rf_model.predict(input)\r\n",
        "  return pred\r\n",
        "\r\n",
        "\r\n",
        "\r\n",
        "input_df"
      ],
      "execution_count": 20,
      "outputs": [
        {
          "output_type": "execute_result",
          "data": {
            "text/html": [
              "<div>\n",
              "<style scoped>\n",
              "    .dataframe tbody tr th:only-of-type {\n",
              "        vertical-align: middle;\n",
              "    }\n",
              "\n",
              "    .dataframe tbody tr th {\n",
              "        vertical-align: top;\n",
              "    }\n",
              "\n",
              "    .dataframe thead th {\n",
              "        text-align: right;\n",
              "    }\n",
              "</style>\n",
              "<table border=\"1\" class=\"dataframe\">\n",
              "  <thead>\n",
              "    <tr style=\"text-align: right;\">\n",
              "      <th></th>\n",
              "      <th>Age</th>\n",
              "      <th>Income</th>\n",
              "      <th>Expenses</th>\n",
              "      <th>Company</th>\n",
              "      <th>Experience</th>\n",
              "      <th>Gender_m</th>\n",
              "    </tr>\n",
              "  </thead>\n",
              "  <tbody>\n",
              "    <tr>\n",
              "      <th>0</th>\n",
              "      <td>31</td>\n",
              "      <td>55000</td>\n",
              "      <td>35000</td>\n",
              "      <td>4</td>\n",
              "      <td>15</td>\n",
              "      <td>1</td>\n",
              "    </tr>\n",
              "  </tbody>\n",
              "</table>\n",
              "</div>"
            ],
            "text/plain": [
              "   Age  Income  Expenses  Company  Experience  Gender_m\n",
              "0   31   55000     35000        4          15         1"
            ]
          },
          "metadata": {
            "tags": []
          },
          "execution_count": 20
        }
      ]
    },
    {
      "cell_type": "code",
      "metadata": {
        "colab": {
          "base_uri": "https://localhost:8080/"
        },
        "id": "7B2NBF3bZl0Q",
        "outputId": "75e65fbe-3c83-4cca-854e-236784334077"
      },
      "source": [
        "pred = find_eligibility(input_df)\r\n",
        "pred[0]"
      ],
      "execution_count": 21,
      "outputs": [
        {
          "output_type": "execute_result",
          "data": {
            "text/plain": [
              "1"
            ]
          },
          "metadata": {
            "tags": []
          },
          "execution_count": 21
        }
      ]
    },
    {
      "cell_type": "code",
      "metadata": {
        "colab": {
          "base_uri": "https://localhost:8080/"
        },
        "id": "0DYu4Z-wgfx7",
        "outputId": "10d6497a-7728-497f-df3c-deadbc78625f"
      },
      "source": [
        "# user_input_dict = {'Age': 36, 'Income': 35000, 'Expenses': 25000, 'Company': 3, 'Experience': 13, 'Gender_m': 1}\r\n",
        "user_input_dict = zip([36], [35000], [25000], [3], [13], [1])\r\n",
        "col = ['Age', 'Income', 'Expenses', 'Company', 'Experience', 'Gender_m']\r\n",
        "\r\n",
        "print(\"Input_dict: \", user_input_dict)\r\n",
        "input_df = pd.DataFrame(list(user_input_dict), columns=col)\r\n",
        "\r\n",
        "print('Input_df: ', input_df)\r\n",
        "pred = find_eligibility(input_df)\r\n",
        "print(\"Eligibility_score: \", pred[0])"
      ],
      "execution_count": 22,
      "outputs": [
        {
          "output_type": "stream",
          "text": [
            "Input_dict:  <zip object at 0x7f11bb4fba08>\n",
            "Input_df:     Age  Income  Expenses  Company  Experience  Gender_m\n",
            "0   36   35000     25000        3          13         1\n",
            "Eligibility_score:  1\n"
          ],
          "name": "stdout"
        }
      ]
    },
    {
      "cell_type": "code",
      "metadata": {
        "colab": {
          "base_uri": "https://localhost:8080/",
          "height": 337
        },
        "id": "3P427BvYsu4N",
        "outputId": "08dc61d7-c2d6-480d-e11f-f043cacdeb74"
      },
      "source": [
        "mcap_comp = pd.read_excel('/content/company_name.xlsx')\r\n",
        "mcap_comp.head()"
      ],
      "execution_count": 23,
      "outputs": [
        {
          "output_type": "error",
          "ename": "FileNotFoundError",
          "evalue": "ignored",
          "traceback": [
            "\u001b[0;31m---------------------------------------------------------------------------\u001b[0m",
            "\u001b[0;31mFileNotFoundError\u001b[0m                         Traceback (most recent call last)",
            "\u001b[0;32m<ipython-input-23-3f2fd808ab13>\u001b[0m in \u001b[0;36m<module>\u001b[0;34m()\u001b[0m\n\u001b[0;32m----> 1\u001b[0;31m \u001b[0mmcap_comp\u001b[0m \u001b[0;34m=\u001b[0m \u001b[0mpd\u001b[0m\u001b[0;34m.\u001b[0m\u001b[0mread_excel\u001b[0m\u001b[0;34m(\u001b[0m\u001b[0;34m'/content/company_name.xlsx'\u001b[0m\u001b[0;34m)\u001b[0m\u001b[0;34m\u001b[0m\u001b[0;34m\u001b[0m\u001b[0m\n\u001b[0m\u001b[1;32m      2\u001b[0m \u001b[0mmcap_comp\u001b[0m\u001b[0;34m.\u001b[0m\u001b[0mhead\u001b[0m\u001b[0;34m(\u001b[0m\u001b[0;34m)\u001b[0m\u001b[0;34m\u001b[0m\u001b[0;34m\u001b[0m\u001b[0m\n",
            "\u001b[0;32m/usr/local/lib/python3.6/dist-packages/pandas/util/_decorators.py\u001b[0m in \u001b[0;36mwrapper\u001b[0;34m(*args, **kwargs)\u001b[0m\n\u001b[1;32m    294\u001b[0m                 )\n\u001b[1;32m    295\u001b[0m                 \u001b[0mwarnings\u001b[0m\u001b[0;34m.\u001b[0m\u001b[0mwarn\u001b[0m\u001b[0;34m(\u001b[0m\u001b[0mmsg\u001b[0m\u001b[0;34m,\u001b[0m \u001b[0mFutureWarning\u001b[0m\u001b[0;34m,\u001b[0m \u001b[0mstacklevel\u001b[0m\u001b[0;34m=\u001b[0m\u001b[0mstacklevel\u001b[0m\u001b[0;34m)\u001b[0m\u001b[0;34m\u001b[0m\u001b[0;34m\u001b[0m\u001b[0m\n\u001b[0;32m--> 296\u001b[0;31m             \u001b[0;32mreturn\u001b[0m \u001b[0mfunc\u001b[0m\u001b[0;34m(\u001b[0m\u001b[0;34m*\u001b[0m\u001b[0margs\u001b[0m\u001b[0;34m,\u001b[0m \u001b[0;34m**\u001b[0m\u001b[0mkwargs\u001b[0m\u001b[0;34m)\u001b[0m\u001b[0;34m\u001b[0m\u001b[0;34m\u001b[0m\u001b[0m\n\u001b[0m\u001b[1;32m    297\u001b[0m \u001b[0;34m\u001b[0m\u001b[0m\n\u001b[1;32m    298\u001b[0m         \u001b[0;32mreturn\u001b[0m \u001b[0mwrapper\u001b[0m\u001b[0;34m\u001b[0m\u001b[0;34m\u001b[0m\u001b[0m\n",
            "\u001b[0;32m/usr/local/lib/python3.6/dist-packages/pandas/io/excel/_base.py\u001b[0m in \u001b[0;36mread_excel\u001b[0;34m(io, sheet_name, header, names, index_col, usecols, squeeze, dtype, engine, converters, true_values, false_values, skiprows, nrows, na_values, keep_default_na, na_filter, verbose, parse_dates, date_parser, thousands, comment, skipfooter, convert_float, mangle_dupe_cols)\u001b[0m\n\u001b[1;32m    302\u001b[0m \u001b[0;34m\u001b[0m\u001b[0m\n\u001b[1;32m    303\u001b[0m     \u001b[0;32mif\u001b[0m \u001b[0;32mnot\u001b[0m \u001b[0misinstance\u001b[0m\u001b[0;34m(\u001b[0m\u001b[0mio\u001b[0m\u001b[0;34m,\u001b[0m \u001b[0mExcelFile\u001b[0m\u001b[0;34m)\u001b[0m\u001b[0;34m:\u001b[0m\u001b[0;34m\u001b[0m\u001b[0;34m\u001b[0m\u001b[0m\n\u001b[0;32m--> 304\u001b[0;31m         \u001b[0mio\u001b[0m \u001b[0;34m=\u001b[0m \u001b[0mExcelFile\u001b[0m\u001b[0;34m(\u001b[0m\u001b[0mio\u001b[0m\u001b[0;34m,\u001b[0m \u001b[0mengine\u001b[0m\u001b[0;34m=\u001b[0m\u001b[0mengine\u001b[0m\u001b[0;34m)\u001b[0m\u001b[0;34m\u001b[0m\u001b[0;34m\u001b[0m\u001b[0m\n\u001b[0m\u001b[1;32m    305\u001b[0m     \u001b[0;32melif\u001b[0m \u001b[0mengine\u001b[0m \u001b[0;32mand\u001b[0m \u001b[0mengine\u001b[0m \u001b[0;34m!=\u001b[0m \u001b[0mio\u001b[0m\u001b[0;34m.\u001b[0m\u001b[0mengine\u001b[0m\u001b[0;34m:\u001b[0m\u001b[0;34m\u001b[0m\u001b[0;34m\u001b[0m\u001b[0m\n\u001b[1;32m    306\u001b[0m         raise ValueError(\n",
            "\u001b[0;32m/usr/local/lib/python3.6/dist-packages/pandas/io/excel/_base.py\u001b[0m in \u001b[0;36m__init__\u001b[0;34m(self, path_or_buffer, engine)\u001b[0m\n\u001b[1;32m    865\u001b[0m         \u001b[0mself\u001b[0m\u001b[0;34m.\u001b[0m\u001b[0m_io\u001b[0m \u001b[0;34m=\u001b[0m \u001b[0mstringify_path\u001b[0m\u001b[0;34m(\u001b[0m\u001b[0mpath_or_buffer\u001b[0m\u001b[0;34m)\u001b[0m\u001b[0;34m\u001b[0m\u001b[0;34m\u001b[0m\u001b[0m\n\u001b[1;32m    866\u001b[0m \u001b[0;34m\u001b[0m\u001b[0m\n\u001b[0;32m--> 867\u001b[0;31m         \u001b[0mself\u001b[0m\u001b[0;34m.\u001b[0m\u001b[0m_reader\u001b[0m \u001b[0;34m=\u001b[0m \u001b[0mself\u001b[0m\u001b[0;34m.\u001b[0m\u001b[0m_engines\u001b[0m\u001b[0;34m[\u001b[0m\u001b[0mengine\u001b[0m\u001b[0;34m]\u001b[0m\u001b[0;34m(\u001b[0m\u001b[0mself\u001b[0m\u001b[0;34m.\u001b[0m\u001b[0m_io\u001b[0m\u001b[0;34m)\u001b[0m\u001b[0;34m\u001b[0m\u001b[0;34m\u001b[0m\u001b[0m\n\u001b[0m\u001b[1;32m    868\u001b[0m \u001b[0;34m\u001b[0m\u001b[0m\n\u001b[1;32m    869\u001b[0m     \u001b[0;32mdef\u001b[0m \u001b[0m__fspath__\u001b[0m\u001b[0;34m(\u001b[0m\u001b[0mself\u001b[0m\u001b[0;34m)\u001b[0m\u001b[0;34m:\u001b[0m\u001b[0;34m\u001b[0m\u001b[0;34m\u001b[0m\u001b[0m\n",
            "\u001b[0;32m/usr/local/lib/python3.6/dist-packages/pandas/io/excel/_xlrd.py\u001b[0m in \u001b[0;36m__init__\u001b[0;34m(self, filepath_or_buffer)\u001b[0m\n\u001b[1;32m     20\u001b[0m         \u001b[0merr_msg\u001b[0m \u001b[0;34m=\u001b[0m \u001b[0;34m\"Install xlrd >= 1.0.0 for Excel support\"\u001b[0m\u001b[0;34m\u001b[0m\u001b[0;34m\u001b[0m\u001b[0m\n\u001b[1;32m     21\u001b[0m         \u001b[0mimport_optional_dependency\u001b[0m\u001b[0;34m(\u001b[0m\u001b[0;34m\"xlrd\"\u001b[0m\u001b[0;34m,\u001b[0m \u001b[0mextra\u001b[0m\u001b[0;34m=\u001b[0m\u001b[0merr_msg\u001b[0m\u001b[0;34m)\u001b[0m\u001b[0;34m\u001b[0m\u001b[0;34m\u001b[0m\u001b[0m\n\u001b[0;32m---> 22\u001b[0;31m         \u001b[0msuper\u001b[0m\u001b[0;34m(\u001b[0m\u001b[0;34m)\u001b[0m\u001b[0;34m.\u001b[0m\u001b[0m__init__\u001b[0m\u001b[0;34m(\u001b[0m\u001b[0mfilepath_or_buffer\u001b[0m\u001b[0;34m)\u001b[0m\u001b[0;34m\u001b[0m\u001b[0;34m\u001b[0m\u001b[0m\n\u001b[0m\u001b[1;32m     23\u001b[0m \u001b[0;34m\u001b[0m\u001b[0m\n\u001b[1;32m     24\u001b[0m     \u001b[0;34m@\u001b[0m\u001b[0mproperty\u001b[0m\u001b[0;34m\u001b[0m\u001b[0;34m\u001b[0m\u001b[0m\n",
            "\u001b[0;32m/usr/local/lib/python3.6/dist-packages/pandas/io/excel/_base.py\u001b[0m in \u001b[0;36m__init__\u001b[0;34m(self, filepath_or_buffer)\u001b[0m\n\u001b[1;32m    351\u001b[0m             \u001b[0mself\u001b[0m\u001b[0;34m.\u001b[0m\u001b[0mbook\u001b[0m \u001b[0;34m=\u001b[0m \u001b[0mself\u001b[0m\u001b[0;34m.\u001b[0m\u001b[0mload_workbook\u001b[0m\u001b[0;34m(\u001b[0m\u001b[0mfilepath_or_buffer\u001b[0m\u001b[0;34m)\u001b[0m\u001b[0;34m\u001b[0m\u001b[0;34m\u001b[0m\u001b[0m\n\u001b[1;32m    352\u001b[0m         \u001b[0;32melif\u001b[0m \u001b[0misinstance\u001b[0m\u001b[0;34m(\u001b[0m\u001b[0mfilepath_or_buffer\u001b[0m\u001b[0;34m,\u001b[0m \u001b[0mstr\u001b[0m\u001b[0;34m)\u001b[0m\u001b[0;34m:\u001b[0m\u001b[0;34m\u001b[0m\u001b[0;34m\u001b[0m\u001b[0m\n\u001b[0;32m--> 353\u001b[0;31m             \u001b[0mself\u001b[0m\u001b[0;34m.\u001b[0m\u001b[0mbook\u001b[0m \u001b[0;34m=\u001b[0m \u001b[0mself\u001b[0m\u001b[0;34m.\u001b[0m\u001b[0mload_workbook\u001b[0m\u001b[0;34m(\u001b[0m\u001b[0mfilepath_or_buffer\u001b[0m\u001b[0;34m)\u001b[0m\u001b[0;34m\u001b[0m\u001b[0;34m\u001b[0m\u001b[0m\n\u001b[0m\u001b[1;32m    354\u001b[0m         \u001b[0;32melif\u001b[0m \u001b[0misinstance\u001b[0m\u001b[0;34m(\u001b[0m\u001b[0mfilepath_or_buffer\u001b[0m\u001b[0;34m,\u001b[0m \u001b[0mbytes\u001b[0m\u001b[0;34m)\u001b[0m\u001b[0;34m:\u001b[0m\u001b[0;34m\u001b[0m\u001b[0;34m\u001b[0m\u001b[0m\n\u001b[1;32m    355\u001b[0m             \u001b[0mself\u001b[0m\u001b[0;34m.\u001b[0m\u001b[0mbook\u001b[0m \u001b[0;34m=\u001b[0m \u001b[0mself\u001b[0m\u001b[0;34m.\u001b[0m\u001b[0mload_workbook\u001b[0m\u001b[0;34m(\u001b[0m\u001b[0mBytesIO\u001b[0m\u001b[0;34m(\u001b[0m\u001b[0mfilepath_or_buffer\u001b[0m\u001b[0;34m)\u001b[0m\u001b[0;34m)\u001b[0m\u001b[0;34m\u001b[0m\u001b[0;34m\u001b[0m\u001b[0m\n",
            "\u001b[0;32m/usr/local/lib/python3.6/dist-packages/pandas/io/excel/_xlrd.py\u001b[0m in \u001b[0;36mload_workbook\u001b[0;34m(self, filepath_or_buffer)\u001b[0m\n\u001b[1;32m     35\u001b[0m             \u001b[0;32mreturn\u001b[0m \u001b[0mopen_workbook\u001b[0m\u001b[0;34m(\u001b[0m\u001b[0mfile_contents\u001b[0m\u001b[0;34m=\u001b[0m\u001b[0mdata\u001b[0m\u001b[0;34m)\u001b[0m\u001b[0;34m\u001b[0m\u001b[0;34m\u001b[0m\u001b[0m\n\u001b[1;32m     36\u001b[0m         \u001b[0;32melse\u001b[0m\u001b[0;34m:\u001b[0m\u001b[0;34m\u001b[0m\u001b[0;34m\u001b[0m\u001b[0m\n\u001b[0;32m---> 37\u001b[0;31m             \u001b[0;32mreturn\u001b[0m \u001b[0mopen_workbook\u001b[0m\u001b[0;34m(\u001b[0m\u001b[0mfilepath_or_buffer\u001b[0m\u001b[0;34m)\u001b[0m\u001b[0;34m\u001b[0m\u001b[0;34m\u001b[0m\u001b[0m\n\u001b[0m\u001b[1;32m     38\u001b[0m \u001b[0;34m\u001b[0m\u001b[0m\n\u001b[1;32m     39\u001b[0m     \u001b[0;34m@\u001b[0m\u001b[0mproperty\u001b[0m\u001b[0;34m\u001b[0m\u001b[0;34m\u001b[0m\u001b[0m\n",
            "\u001b[0;32m/usr/local/lib/python3.6/dist-packages/xlrd/__init__.py\u001b[0m in \u001b[0;36mopen_workbook\u001b[0;34m(filename, logfile, verbosity, use_mmap, file_contents, encoding_override, formatting_info, on_demand, ragged_rows)\u001b[0m\n\u001b[1;32m    114\u001b[0m         \u001b[0mpeek\u001b[0m \u001b[0;34m=\u001b[0m \u001b[0mfile_contents\u001b[0m\u001b[0;34m[\u001b[0m\u001b[0;34m:\u001b[0m\u001b[0mpeeksz\u001b[0m\u001b[0;34m]\u001b[0m\u001b[0;34m\u001b[0m\u001b[0;34m\u001b[0m\u001b[0m\n\u001b[1;32m    115\u001b[0m     \u001b[0;32melse\u001b[0m\u001b[0;34m:\u001b[0m\u001b[0;34m\u001b[0m\u001b[0;34m\u001b[0m\u001b[0m\n\u001b[0;32m--> 116\u001b[0;31m         \u001b[0;32mwith\u001b[0m \u001b[0mopen\u001b[0m\u001b[0;34m(\u001b[0m\u001b[0mfilename\u001b[0m\u001b[0;34m,\u001b[0m \u001b[0;34m\"rb\"\u001b[0m\u001b[0;34m)\u001b[0m \u001b[0;32mas\u001b[0m \u001b[0mf\u001b[0m\u001b[0;34m:\u001b[0m\u001b[0;34m\u001b[0m\u001b[0;34m\u001b[0m\u001b[0m\n\u001b[0m\u001b[1;32m    117\u001b[0m             \u001b[0mpeek\u001b[0m \u001b[0;34m=\u001b[0m \u001b[0mf\u001b[0m\u001b[0;34m.\u001b[0m\u001b[0mread\u001b[0m\u001b[0;34m(\u001b[0m\u001b[0mpeeksz\u001b[0m\u001b[0;34m)\u001b[0m\u001b[0;34m\u001b[0m\u001b[0;34m\u001b[0m\u001b[0m\n\u001b[1;32m    118\u001b[0m     \u001b[0;32mif\u001b[0m \u001b[0mpeek\u001b[0m \u001b[0;34m==\u001b[0m \u001b[0;34mb\"PK\\x03\\x04\"\u001b[0m\u001b[0;34m:\u001b[0m \u001b[0;31m# a ZIP file\u001b[0m\u001b[0;34m\u001b[0m\u001b[0;34m\u001b[0m\u001b[0m\n",
            "\u001b[0;31mFileNotFoundError\u001b[0m: [Errno 2] No such file or directory: '/content/company_name.xlsx'"
          ]
        }
      ]
    },
    {
      "cell_type": "code",
      "metadata": {
        "id": "UxArBHK32s56"
      },
      "source": [
        "mcap_comp.shape"
      ],
      "execution_count": null,
      "outputs": []
    },
    {
      "cell_type": "code",
      "metadata": {
        "id": "yWt2O5lNmZBg"
      },
      "source": [
        "mcap_comp.columns"
      ],
      "execution_count": null,
      "outputs": []
    },
    {
      "cell_type": "code",
      "metadata": {
        "id": "W3_N7Vac2w3_"
      },
      "source": [
        "dff = mcap_comp.drop(['Sr. No.', 'ISIN', 'BSE Symbol',\r\n",
        "       'BSE 6 month Avg Total Market Cap in (Rs. Crs.)', 'NSE Symbol',\r\n",
        "       'NSE 6 month Avg Total Market Cap (Rs. Crs.)', 'MSEI Symbol', \r\n",
        "       'MSEI 6 month Avg Total Market Cap in (Rs Crs.)',\r\n",
        "       'Average of All Exchanges (Rs. Cr.)'], axis=1)\r\n",
        "\r\n",
        "dff.head()"
      ],
      "execution_count": null,
      "outputs": []
    },
    {
      "cell_type": "code",
      "metadata": {
        "id": "zEFK29pp4FBo"
      },
      "source": [
        "dff = dff.rename(columns={'Company name': 'Company_name', 'Categorization as per SEBI Circular dated Oct 6, 2017': 'Rank'})"
      ],
      "execution_count": null,
      "outputs": []
    },
    {
      "cell_type": "code",
      "metadata": {
        "id": "thMiNnEKlXeq"
      },
      "source": [
        "dff['Rank'].value_counts()"
      ],
      "execution_count": null,
      "outputs": []
    },
    {
      "cell_type": "code",
      "metadata": {
        "id": "TqxLGSXwkBeu"
      },
      "source": [
        "rank = []\r\n",
        "\r\n",
        "for x in dff['Rank']:\r\n",
        "  if x == 'Large Cap':\r\n",
        "    rank.append(1)\r\n",
        "  elif x == 'Mid Cap' or x == ' Mid Cap':\r\n",
        "    rank.append(2)\r\n",
        "  else :\r\n",
        "    rank.append(3)\r\n",
        "\r\n",
        "\r\n",
        "dff['Rank'] = rank"
      ],
      "execution_count": null,
      "outputs": []
    },
    {
      "cell_type": "code",
      "metadata": {
        "id": "kZpPNVjQ4BAG"
      },
      "source": [
        "dff.head()"
      ],
      "execution_count": null,
      "outputs": []
    },
    {
      "cell_type": "code",
      "metadata": {
        "id": "0nTbFPaa4DXP"
      },
      "source": [
        "dff['Rank'].value_counts()"
      ],
      "execution_count": null,
      "outputs": []
    },
    {
      "cell_type": "code",
      "metadata": {
        "id": "vOtYk8bQh04N"
      },
      "source": [
        "dff.to_csv('Company_list.csv')"
      ],
      "execution_count": null,
      "outputs": []
    },
    {
      "cell_type": "code",
      "metadata": {
        "id": "pKBuLigviC2c"
      },
      "source": [
        "df_name = pd.read_csv('/content/Indian-Male-Names.csv')\r\n",
        "\r\n",
        "name_1  =  'birender Kamble'\r\n",
        "def gender_code(name):\r\n",
        "    name.lower()\r\n",
        "    name = name.split(' ')\r\n",
        "    if any(name[0]) in df_name['name']:\r\n",
        "        gen = 1\r\n",
        "    else:\r\n",
        "        gen = 0\r\n",
        "    return gen\r\n",
        "\r\n",
        "\r\n",
        "gender_code(name_1)"
      ],
      "execution_count": null,
      "outputs": []
    },
    {
      "cell_type": "code",
      "metadata": {
        "id": "2A6VcJSTzIGu"
      },
      "source": [
        "df_name.info()"
      ],
      "execution_count": null,
      "outputs": []
    },
    {
      "cell_type": "code",
      "metadata": {
        "id": "L_3qrVHhJZVa"
      },
      "source": [
        "def eligibility_input(user):\r\n",
        "    eli_inputs = []\r\n",
        "    for x in user:\r\n",
        "        x.lower()\r\n",
        "        if \"my name is\" in x:\r\n",
        "            name = x.replace(\"my name is \", '')\r\n",
        "            eli_inputs.append([name])\r\n",
        "        elif \"date of birth is\" in x or \"date is\" in x:\r\n",
        "            dob = [int(s) for s in x.split() if s.isdigit()]\r\n",
        "            eli_inputs.append(dob)\r\n",
        "        elif \"net income\" in x:\r\n",
        "            netincome = [int(s) for s in x.split() if s.isdigit()]\r\n",
        "            eli_inputs.append(netincome)\r\n",
        "        elif \"total expenses\" in x:\r\n",
        "            totalexp = [int(s) for s in x.split() if s.isdigit()]\r\n",
        "            eli_inputs.append(totalexp)\r\n",
        "        elif \"company name\" in x or \"business name\" in x:\r\n",
        "          if \"company name\" in x:\r\n",
        "            company_name = x.replace('company name ', '')\r\n",
        "            eli_inputs.append([company_name])\r\n",
        "          else:\r\n",
        "            company_name = x.replace('business name ', '')\r\n",
        "            eli_inputs.append([company_name])\r\n",
        "        elif \"total experience\" in x:\r\n",
        "            exp = [int(s) for s in x.split() if s.isdigit()]\r\n",
        "            eli_inputs.append(exp)\r\n",
        "    print(\"Inputs -\", eli_inputs)\r\n",
        "    return eli_inputs\r\n"
      ],
      "execution_count": null,
      "outputs": []
    },
    {
      "cell_type": "code",
      "metadata": {
        "id": "NME1i0dnzRHb"
      },
      "source": [
        "user = ['hi there, i need a personal loan', 'ok', 'my name is santosh kamble', \r\n",
        "        'date is 14051996', 'net income 45000', 'total expenses 35000', \r\n",
        "        'business name Teleperformamce pvt ltd', 'total experience 15 year']"
      ],
      "execution_count": null,
      "outputs": []
    },
    {
      "cell_type": "code",
      "metadata": {
        "id": "K5tZQQZIJbFe"
      },
      "source": [
        "eligibility_input(user)"
      ],
      "execution_count": null,
      "outputs": []
    },
    {
      "cell_type": "code",
      "metadata": {
        "id": "nMTGvctaJfxS"
      },
      "source": [
        "df_name = pd.read_csv('/content/Indian-Male-Names.csv')\r\n",
        "def gender_code(name):\r\n",
        "    name.lower()\r\n",
        "    name = name.split(' ')\r\n",
        "    if any(name[0]) in df_name['name']:\r\n",
        "        gen = 1\r\n",
        "    else:\r\n",
        "        gen = 0\r\n",
        "    return gen"
      ],
      "execution_count": null,
      "outputs": []
    },
    {
      "cell_type": "code",
      "metadata": {
        "id": "72QJjHp3MMWj"
      },
      "source": [
        "name = 'Ritesh'\r\n",
        "\r\n",
        "gender_code(name)"
      ],
      "execution_count": null,
      "outputs": []
    },
    {
      "cell_type": "code",
      "metadata": {
        "id": "QSGeRvCchqFn"
      },
      "source": [
        ""
      ],
      "execution_count": null,
      "outputs": []
    }
  ]
}