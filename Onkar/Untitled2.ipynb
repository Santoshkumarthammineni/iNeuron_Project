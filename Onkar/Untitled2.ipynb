{
 "cells": [
  {
   "cell_type": "code",
   "execution_count": 15,
   "metadata": {},
   "outputs": [
    {
     "name": "stdout",
     "output_type": "stream",
     "text": [
      "Collecting google.cloud\n",
      "  Using cached https://files.pythonhosted.org/packages/ba/b1/7c54d1950e7808df06642274e677dbcedba57f75307adf2e5ad8d39e5e0e/google_cloud-0.34.0-py2.py3-none-any.whl\n",
      "Installing collected packages: google.cloud\n",
      "Successfully installed google.cloud\n",
      "Collecting google.cloud.language\n",
      "  Using cached https://files.pythonhosted.org/packages/ba/b8/965a97ba60287910d342623da1da615254bded3e0965728cf7fc6339b7c8/google_cloud_language-1.3.0-py2.py3-none-any.whl\n",
      "Requirement already satisfied: google-api-core[grpc]<2.0.0dev,>=1.14.0 in c:\\users\\admin\\anaconda3\\lib\\site-packages (from google.cloud.language) (1.14.2)\n",
      "Requirement already satisfied: googleapis-common-protos<2.0dev,>=1.6.0 in c:\\users\\admin\\anaconda3\\lib\\site-packages (from google-api-core[grpc]<2.0.0dev,>=1.14.0->google.cloud.language) (1.6.0)\n",
      "Requirement already satisfied: google-auth<2.0dev,>=0.4.0 in c:\\users\\admin\\anaconda3\\lib\\site-packages (from google-api-core[grpc]<2.0.0dev,>=1.14.0->google.cloud.language) (1.6.3)\n",
      "Requirement already satisfied: protobuf>=3.4.0 in c:\\users\\admin\\anaconda3\\lib\\site-packages (from google-api-core[grpc]<2.0.0dev,>=1.14.0->google.cloud.language) (3.8.0)\n",
      "Requirement already satisfied: pytz in c:\\users\\admin\\anaconda3\\lib\\site-packages (from google-api-core[grpc]<2.0.0dev,>=1.14.0->google.cloud.language) (2018.7)\n",
      "Requirement already satisfied: requests<3.0.0dev,>=2.18.0 in c:\\users\\admin\\anaconda3\\lib\\site-packages (from google-api-core[grpc]<2.0.0dev,>=1.14.0->google.cloud.language) (2.21.0)\n",
      "Requirement already satisfied: setuptools>=34.0.0 in c:\\users\\admin\\anaconda3\\lib\\site-packages (from google-api-core[grpc]<2.0.0dev,>=1.14.0->google.cloud.language) (40.6.3)\n",
      "Requirement already satisfied: six>=1.10.0 in c:\\users\\admin\\anaconda3\\lib\\site-packages (from google-api-core[grpc]<2.0.0dev,>=1.14.0->google.cloud.language) (1.12.0)\n",
      "Requirement already satisfied: grpcio<2.0dev,>=1.8.2; extra == \"grpc\" in c:\\users\\admin\\anaconda3\\lib\\site-packages (from google-api-core[grpc]<2.0.0dev,>=1.14.0->google.cloud.language) (1.16.1)\n",
      "Requirement already satisfied: rsa>=3.1.4 in c:\\users\\admin\\anaconda3\\lib\\site-packages (from google-auth<2.0dev,>=0.4.0->google-api-core[grpc]<2.0.0dev,>=1.14.0->google.cloud.language) (4.0)\n",
      "Requirement already satisfied: cachetools>=2.0.0 in c:\\users\\admin\\anaconda3\\lib\\site-packages (from google-auth<2.0dev,>=0.4.0->google-api-core[grpc]<2.0.0dev,>=1.14.0->google.cloud.language) (3.1.1)\n",
      "Requirement already satisfied: pyasn1-modules>=0.2.1 in c:\\users\\admin\\anaconda3\\lib\\site-packages (from google-auth<2.0dev,>=0.4.0->google-api-core[grpc]<2.0.0dev,>=1.14.0->google.cloud.language) (0.2.6)\n",
      "Requirement already satisfied: idna<2.9,>=2.5 in c:\\users\\admin\\anaconda3\\lib\\site-packages (from requests<3.0.0dev,>=2.18.0->google-api-core[grpc]<2.0.0dev,>=1.14.0->google.cloud.language) (2.8)\n",
      "Requirement already satisfied: urllib3<1.25,>=1.21.1 in c:\\users\\admin\\anaconda3\\lib\\site-packages (from requests<3.0.0dev,>=2.18.0->google-api-core[grpc]<2.0.0dev,>=1.14.0->google.cloud.language) (1.24.1)\n",
      "Requirement already satisfied: certifi>=2017.4.17 in c:\\users\\admin\\anaconda3\\lib\\site-packages (from requests<3.0.0dev,>=2.18.0->google-api-core[grpc]<2.0.0dev,>=1.14.0->google.cloud.language) (2018.11.29)\n",
      "Requirement already satisfied: chardet<3.1.0,>=3.0.2 in c:\\users\\admin\\anaconda3\\lib\\site-packages (from requests<3.0.0dev,>=2.18.0->google-api-core[grpc]<2.0.0dev,>=1.14.0->google.cloud.language) (3.0.4)\n",
      "Requirement already satisfied: pyasn1>=0.1.3 in c:\\users\\admin\\anaconda3\\lib\\site-packages (from rsa>=3.1.4->google-auth<2.0dev,>=0.4.0->google-api-core[grpc]<2.0.0dev,>=1.14.0->google.cloud.language) (0.4.7)\n",
      "Installing collected packages: google.cloud.language\n",
      "Successfully installed google.cloud.language\n"
     ]
    }
   ],
   "source": [
    "!pip install google.cloud\n",
    "!pip install google.cloud.language"
   ]
  },
  {
   "cell_type": "code",
   "execution_count": 1,
   "metadata": {},
   "outputs": [],
   "source": [
    "import os, io\n",
    "import pandas as pd\n",
    "\n",
    "os.environ['GOOGLE_APPLICATION_CREDENTIALS'] = r'qwiklabs-gcp-00-a96d2e918424-e52be5e52fa7.json'\n"
   ]
  },
  {
   "cell_type": "code",
   "execution_count": null,
   "metadata": {},
   "outputs": [],
   "source": [
    "#sentiment analysis\n",
    "\n",
    "\n",
    "from google.cloud import language\n",
    "from google.cloud.language import enums, types\n",
    "\n",
    "\n",
    "def analyze_text_sentiment(text):\n",
    "    client = language.LanguageServiceClient()\n",
    "    document = types.Document(\n",
    "        content=text,\n",
    "        type=enums.Document.Type.PLAIN_TEXT)\n",
    "\n",
    "    response = client.analyze_sentiment(document=document)\n",
    "\n",
    "    sentiment = response.document_sentiment\n",
    "    results = [\n",
    "        ('text', text),\n",
    "        ('score', sentiment.score),\n",
    "        ('magnitude', sentiment.magnitude),\n",
    "    ]\n",
    "    for k, v in results:\n",
    "        print('{:10}: {}'.format(k, v))"
   ]
  },
  {
   "cell_type": "code",
   "execution_count": null,
   "metadata": {},
   "outputs": [],
   "source": [
    "text = '''Kind, personal, and caring people. Excellent and friendly service. Job well done--made the extra effort to work out the problem. Completed results were as though nothing happened that required me to be in their facility in the first place. The place to go to for satisfaction.'''\n",
    "analyze_text_sentiment(text)"
   ]
  },
  {
   "cell_type": "code",
   "execution_count": null,
   "metadata": {},
   "outputs": [],
   "source": []
  },
  {
   "cell_type": "code",
   "execution_count": null,
   "metadata": {},
   "outputs": [],
   "source": []
  },
  {
   "cell_type": "code",
   "execution_count": null,
   "metadata": {},
   "outputs": [],
   "source": []
  },
  {
   "cell_type": "code",
   "execution_count": null,
   "metadata": {},
   "outputs": [],
   "source": []
  },
  {
   "cell_type": "code",
   "execution_count": null,
   "metadata": {},
   "outputs": [],
   "source": []
  },
  {
   "cell_type": "code",
   "execution_count": null,
   "metadata": {},
   "outputs": [],
   "source": []
  },
  {
   "cell_type": "code",
   "execution_count": null,
   "metadata": {},
   "outputs": [],
   "source": [
    "\n"
   ]
  }
 ],
 "metadata": {
  "kernelspec": {
   "display_name": "Python 3",
   "language": "python",
   "name": "python3"
  },
  "language_info": {
   "codemirror_mode": {
    "name": "ipython",
    "version": 3
   },
   "file_extension": ".py",
   "mimetype": "text/x-python",
   "name": "python",
   "nbconvert_exporter": "python",
   "pygments_lexer": "ipython3",
   "version": "3.7.1"
  }
 },
 "nbformat": 4,
 "nbformat_minor": 2
}
